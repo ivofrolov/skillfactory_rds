{
 "cells": [
  {
   "cell_type": "markdown",
   "metadata": {},
   "source": [
    "**Дано.** Программа, которая \"загадывает\" число и принимает попытки его отгадать, возвращая {0, -1, 1} если загаданное число равно предполагаемому, меньше, или больше него соответсвенно."
   ]
  },
  {
   "cell_type": "code",
   "execution_count": 1,
   "metadata": {},
   "outputs": [],
   "source": [
    "import random\n",
    "random.seed(1)"
   ]
  },
  {
   "cell_type": "code",
   "execution_count": 2,
   "metadata": {},
   "outputs": [],
   "source": [
    "def new_guess_game():\n",
    "    number = random.randint(1, 100)\n",
    "    \n",
    "    def attempt(predict):\n",
    "        if number == predict:\n",
    "            return 0\n",
    "        if number < predict:\n",
    "            return -1\n",
    "        if number > predict:\n",
    "            return 1\n",
    "    \n",
    "    return attempt"
   ]
  },
  {
   "cell_type": "markdown",
   "metadata": {},
   "source": [
    "А также два примера алгоритмов, отыскивающих загаданное число и возвращающих количество затраченных на это попыток."
   ]
  },
  {
   "cell_type": "code",
   "execution_count": 3,
   "metadata": {},
   "outputs": [],
   "source": [
    "def random_guess():\n",
    "    '''Попытка угадать число с помощью генератора случайных чисел'''\n",
    "    guess = new_guess_game()\n",
    "    count = 1\n",
    "    while True:\n",
    "        predict = random.randint(1, 100)\n",
    "        if guess(predict) == 0:\n",
    "            return count\n",
    "        count += 1"
   ]
  },
  {
   "cell_type": "code",
   "execution_count": 4,
   "metadata": {},
   "outputs": [],
   "source": [
    "def more_less_guess():\n",
    "    '''Попытка угадать число, используя информацию о том, больше или меньше\n",
    "       загаданное число предпологаемого'''\n",
    "    guess = new_guess_game()\n",
    "    count = 1\n",
    "    predict = random.randint(1, 100)\n",
    "    while True:\n",
    "        result = guess(predict)\n",
    "        if result == 0:\n",
    "            return count\n",
    "        predict += result\n",
    "        count += 1"
   ]
  },
  {
   "cell_type": "markdown",
   "metadata": {},
   "source": [
    "**Задача.** Разработать алгоритм, который угадывает число за минимальное количество попыток. Для оценки можно использовать среднее количества попыток N игр."
   ]
  },
  {
   "cell_type": "code",
   "execution_count": 5,
   "metadata": {},
   "outputs": [],
   "source": [
    "from statistics import mean\n",
    "\n",
    "def score_game(game_core, count=1000):\n",
    "    return mean([game_core() for _ in range(count)])"
   ]
  },
  {
   "cell_type": "code",
   "execution_count": 6,
   "metadata": {},
   "outputs": [
    {
     "name": "stdout",
     "output_type": "stream",
     "text": [
      "`random_guess`    в среднем угадывает число за 99.755 попыток\n",
      "`more_less_guess` в среднем угадывает число за 35.527 попыток\n"
     ]
    }
   ],
   "source": [
    "random_result = score_game(random_guess)\n",
    "print(f'`random_guess`    в среднем угадывает число за {random_result} попыток')\n",
    "\n",
    "more_less_result = score_game(more_less_guess)\n",
    "print(f'`more_less_guess` в среднем угадывает число за {more_less_result} попыток')"
   ]
  },
  {
   "cell_type": "markdown",
   "metadata": {},
   "source": [
    "**Решение.** Попытаемся отгадать число путем предположения среднего значения в интервале возможных вариантов и последующего сужения одной из границ этого интервала в зависимости от результата попытки."
   ]
  },
  {
   "cell_type": "code",
   "execution_count": 7,
   "metadata": {},
   "outputs": [],
   "source": [
    "def narrow_limits_guess():\n",
    "    guess = new_guess_game()\n",
    "    count = 1\n",
    "    low_bound, high_bound = 1, 101\n",
    "    while True:\n",
    "        predict = (low_bound + high_bound) // 2\n",
    "        result = guess(predict)\n",
    "        if result == 0:\n",
    "            return count\n",
    "        if result < 0:\n",
    "            high_bound = predict\n",
    "        else:\n",
    "            low_bound = predict\n",
    "        count += 1"
   ]
  },
  {
   "cell_type": "code",
   "execution_count": 8,
   "metadata": {},
   "outputs": [
    {
     "name": "stdout",
     "output_type": "stream",
     "text": [
      "`narrow_limits_guess` в среднем угадывает число за 5.751 попыток\n"
     ]
    }
   ],
   "source": [
    "narrow_limits_result = score_game(narrow_limits_guess)\n",
    "print(f'`narrow_limits_guess` в среднем угадывает число за {narrow_limits_result} попыток')"
   ]
  },
  {
   "cell_type": "markdown",
   "metadata": {},
   "source": [
    "Как видно, стратегия сужения границ работает достаточно эффективно. Есть ли способ улучшить результат?"
   ]
  },
  {
   "cell_type": "code",
   "execution_count": null,
   "metadata": {},
   "outputs": [],
   "source": []
  }
 ],
 "metadata": {
  "kernelspec": {
   "display_name": "Python 3",
   "language": "python",
   "name": "python3"
  },
  "language_info": {
   "codemirror_mode": {
    "name": "ipython",
    "version": 3
   },
   "file_extension": ".py",
   "mimetype": "text/x-python",
   "name": "python",
   "nbconvert_exporter": "python",
   "pygments_lexer": "ipython3",
   "version": "3.7.7"
  }
 },
 "nbformat": 4,
 "nbformat_minor": 4
}
