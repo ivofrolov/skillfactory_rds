{
 "cells": [
  {
   "cell_type": "markdown",
   "metadata": {
    "papermill": {
     "duration": 0.034574,
     "end_time": "2020-11-04T02:08:44.946161",
     "exception": false,
     "start_time": "2020-11-04T02:08:44.911587",
     "status": "completed"
    },
    "tags": []
   },
   "source": [
    "## Разработка скоринговой модели предсказания дефолта клиентов"
   ]
  },
  {
   "cell_type": "code",
   "execution_count": 1,
   "metadata": {
    "_cell_guid": "b1076dfc-b9ad-4769-8c92-a6c4dae69d19",
    "_uuid": "8f2839f25d086af736a60e9eeb907d3b93b6e0e5",
    "execution": {
     "iopub.execute_input": "2020-11-04T02:08:45.020786Z",
     "iopub.status.busy": "2020-11-04T02:08:45.019452Z",
     "iopub.status.idle": "2020-11-04T02:08:46.065269Z",
     "shell.execute_reply": "2020-11-04T02:08:46.064362Z"
    },
    "papermill": {
     "duration": 1.085118,
     "end_time": "2020-11-04T02:08:46.065427",
     "exception": false,
     "start_time": "2020-11-04T02:08:44.980309",
     "status": "completed"
    },
    "tags": []
   },
   "outputs": [],
   "source": [
    "import numpy as np\n",
    "import pandas as pd\n",
    "import matplotlib.pyplot as plt\n",
    "import seaborn as sns\n",
    "from statsmodels.graphics.mosaicplot import mosaic"
   ]
  },
  {
   "cell_type": "code",
   "execution_count": 2,
   "metadata": {
    "execution": {
     "iopub.execute_input": "2020-11-04T02:08:46.135306Z",
     "iopub.status.busy": "2020-11-04T02:08:46.134190Z",
     "iopub.status.idle": "2020-11-04T02:08:46.137688Z",
     "shell.execute_reply": "2020-11-04T02:08:46.136924Z"
    },
    "papermill": {
     "duration": 0.040279,
     "end_time": "2020-11-04T02:08:46.137821",
     "exception": false,
     "start_time": "2020-11-04T02:08:46.097542",
     "status": "completed"
    },
    "tags": []
   },
   "outputs": [],
   "source": [
    "DATASETS_LOC = '/kaggle/input/sf-dst-scoring'\n",
    "RANDOM_SEED = 61"
   ]
  },
  {
   "cell_type": "markdown",
   "metadata": {
    "papermill": {
     "duration": 0.031162,
     "end_time": "2020-11-04T02:08:46.201110",
     "exception": false,
     "start_time": "2020-11-04T02:08:46.169948",
     "status": "completed"
    },
    "tags": []
   },
   "source": [
    "Мы располагаем следующей информацией из анкетных данных заемщиков:\n",
    "\n",
    "* `client_id` - идентификатор клиента,\n",
    "* `education` - уровень образования,\n",
    "* `sex` - пол заемщика,\n",
    "* `age` - возраст заемщика,\n",
    "* `car` - флаг наличия автомобиля,\n",
    "* `car_type` - флаг автомобиля иномарки,\n",
    "* `decline_app_cnt` - количество отказанных прошлых заявок,\n",
    "* `good_work` - флаг наличия \"хорошей\" работы,\n",
    "* `bki_request_cnt` - количество запросов в БКИ,\n",
    "* `home_address` - категоризатор домашнего адреса,\n",
    "* `work_address` - категоризатор рабочего адреса,\n",
    "* `income` - доход заемщика,\n",
    "* `foreign_passport` - наличие загранпаспорта,\n",
    "* `sna` - связь заемщика с клиентами банка,\n",
    "* `first_time` - давность наличия информации о заемщике,\n",
    "* `score_bki` - скоринговый балл по данным из БКИ,\n",
    "* `region_rating` - рейтинг региона,\n",
    "* `app_date` - дата подачи заявки,\n",
    "* `default` - флаг дефолта по кредиту."
   ]
  },
  {
   "cell_type": "code",
   "execution_count": 3,
   "metadata": {
    "_cell_guid": "79c7e3d0-c299-4dcb-8224-4455121ee9b0",
    "_uuid": "d629ff2d2480ee46fbb7e2d37f6b5fab8052498a",
    "execution": {
     "iopub.execute_input": "2020-11-04T02:08:46.275899Z",
     "iopub.status.busy": "2020-11-04T02:08:46.275086Z",
     "iopub.status.idle": "2020-11-04T02:08:46.998445Z",
     "shell.execute_reply": "2020-11-04T02:08:46.997813Z"
    },
    "papermill": {
     "duration": 0.766049,
     "end_time": "2020-11-04T02:08:46.998584",
     "exception": false,
     "start_time": "2020-11-04T02:08:46.232535",
     "status": "completed"
    },
    "tags": []
   },
   "outputs": [
    {
     "data": {
      "text/html": [
       "<div>\n",
       "<style scoped>\n",
       "    .dataframe tbody tr th:only-of-type {\n",
       "        vertical-align: middle;\n",
       "    }\n",
       "\n",
       "    .dataframe tbody tr th {\n",
       "        vertical-align: top;\n",
       "    }\n",
       "\n",
       "    .dataframe thead th {\n",
       "        text-align: right;\n",
       "    }\n",
       "</style>\n",
       "<table border=\"1\" class=\"dataframe\">\n",
       "  <thead>\n",
       "    <tr style=\"text-align: right;\">\n",
       "      <th></th>\n",
       "      <th>nunique</th>\n",
       "      <th>&lt;lambda&gt;</th>\n",
       "      <th>null</th>\n",
       "      <th>dtype</th>\n",
       "    </tr>\n",
       "  </thead>\n",
       "  <tbody>\n",
       "    <tr>\n",
       "      <th>_test</th>\n",
       "      <td>2</td>\n",
       "      <td>[False, True]</td>\n",
       "      <td>0</td>\n",
       "      <td>bool</td>\n",
       "    </tr>\n",
       "    <tr>\n",
       "      <th>client_id</th>\n",
       "      <td>110148</td>\n",
       "      <td>[25905, 63161, 25887, 16222, 101655, 41415, 28...</td>\n",
       "      <td>0</td>\n",
       "      <td>int64</td>\n",
       "    </tr>\n",
       "    <tr>\n",
       "      <th>app_date</th>\n",
       "      <td>120</td>\n",
       "      <td>[01FEB2014, 12MAR2014, 23JAN2014, 18APR2014, 1...</td>\n",
       "      <td>0</td>\n",
       "      <td>object</td>\n",
       "    </tr>\n",
       "    <tr>\n",
       "      <th>education</th>\n",
       "      <td>5</td>\n",
       "      <td>[SCH, GRD, UGR, PGR, ACD, nan]</td>\n",
       "      <td>478</td>\n",
       "      <td>object</td>\n",
       "    </tr>\n",
       "    <tr>\n",
       "      <th>sex</th>\n",
       "      <td>2</td>\n",
       "      <td>[M, F]</td>\n",
       "      <td>0</td>\n",
       "      <td>object</td>\n",
       "    </tr>\n",
       "    <tr>\n",
       "      <th>age</th>\n",
       "      <td>52</td>\n",
       "      <td>[62, 59, 25, 53, 48, 27, 39, 50, 54, 29]</td>\n",
       "      <td>0</td>\n",
       "      <td>int64</td>\n",
       "    </tr>\n",
       "    <tr>\n",
       "      <th>car</th>\n",
       "      <td>2</td>\n",
       "      <td>[Y, N]</td>\n",
       "      <td>0</td>\n",
       "      <td>object</td>\n",
       "    </tr>\n",
       "    <tr>\n",
       "      <th>car_type</th>\n",
       "      <td>2</td>\n",
       "      <td>[Y, N]</td>\n",
       "      <td>0</td>\n",
       "      <td>object</td>\n",
       "    </tr>\n",
       "    <tr>\n",
       "      <th>decline_app_cnt</th>\n",
       "      <td>24</td>\n",
       "      <td>[0, 2, 1, 3, 4, 6, 5, 7, 8, 9]</td>\n",
       "      <td>0</td>\n",
       "      <td>int64</td>\n",
       "    </tr>\n",
       "    <tr>\n",
       "      <th>good_work</th>\n",
       "      <td>2</td>\n",
       "      <td>[0, 1]</td>\n",
       "      <td>0</td>\n",
       "      <td>int64</td>\n",
       "    </tr>\n",
       "    <tr>\n",
       "      <th>score_bki</th>\n",
       "      <td>102618</td>\n",
       "      <td>[-2.00875292, -1.53227621, -1.40814226, -2.057...</td>\n",
       "      <td>0</td>\n",
       "      <td>float64</td>\n",
       "    </tr>\n",
       "    <tr>\n",
       "      <th>bki_request_cnt</th>\n",
       "      <td>40</td>\n",
       "      <td>[1, 3, 2, 0, 4, 7, 5, 8, 6, 13]</td>\n",
       "      <td>0</td>\n",
       "      <td>int64</td>\n",
       "    </tr>\n",
       "    <tr>\n",
       "      <th>region_rating</th>\n",
       "      <td>7</td>\n",
       "      <td>[50, 80, 60, 40, 70, 20, 30]</td>\n",
       "      <td>0</td>\n",
       "      <td>int64</td>\n",
       "    </tr>\n",
       "    <tr>\n",
       "      <th>home_address</th>\n",
       "      <td>3</td>\n",
       "      <td>[1, 2, 3]</td>\n",
       "      <td>0</td>\n",
       "      <td>int64</td>\n",
       "    </tr>\n",
       "    <tr>\n",
       "      <th>work_address</th>\n",
       "      <td>3</td>\n",
       "      <td>[2, 3, 1]</td>\n",
       "      <td>0</td>\n",
       "      <td>int64</td>\n",
       "    </tr>\n",
       "    <tr>\n",
       "      <th>income</th>\n",
       "      <td>1207</td>\n",
       "      <td>[18000, 19000, 30000, 10000, 15000, 28000, 450...</td>\n",
       "      <td>0</td>\n",
       "      <td>int64</td>\n",
       "    </tr>\n",
       "    <tr>\n",
       "      <th>sna</th>\n",
       "      <td>4</td>\n",
       "      <td>[4, 1, 2, 3]</td>\n",
       "      <td>0</td>\n",
       "      <td>int64</td>\n",
       "    </tr>\n",
       "    <tr>\n",
       "      <th>first_time</th>\n",
       "      <td>4</td>\n",
       "      <td>[1, 4, 3, 2]</td>\n",
       "      <td>0</td>\n",
       "      <td>int64</td>\n",
       "    </tr>\n",
       "    <tr>\n",
       "      <th>foreign_passport</th>\n",
       "      <td>2</td>\n",
       "      <td>[N, Y]</td>\n",
       "      <td>0</td>\n",
       "      <td>object</td>\n",
       "    </tr>\n",
       "    <tr>\n",
       "      <th>default</th>\n",
       "      <td>2</td>\n",
       "      <td>[0.0, 1.0, nan]</td>\n",
       "      <td>36349</td>\n",
       "      <td>float64</td>\n",
       "    </tr>\n",
       "  </tbody>\n",
       "</table>\n",
       "</div>"
      ],
      "text/plain": [
       "                 nunique                                           <lambda>  \\\n",
       "_test                  2                                      [False, True]   \n",
       "client_id         110148  [25905, 63161, 25887, 16222, 101655, 41415, 28...   \n",
       "app_date             120  [01FEB2014, 12MAR2014, 23JAN2014, 18APR2014, 1...   \n",
       "education              5                     [SCH, GRD, UGR, PGR, ACD, nan]   \n",
       "sex                    2                                             [M, F]   \n",
       "age                   52           [62, 59, 25, 53, 48, 27, 39, 50, 54, 29]   \n",
       "car                    2                                             [Y, N]   \n",
       "car_type               2                                             [Y, N]   \n",
       "decline_app_cnt       24                     [0, 2, 1, 3, 4, 6, 5, 7, 8, 9]   \n",
       "good_work              2                                             [0, 1]   \n",
       "score_bki         102618  [-2.00875292, -1.53227621, -1.40814226, -2.057...   \n",
       "bki_request_cnt       40                    [1, 3, 2, 0, 4, 7, 5, 8, 6, 13]   \n",
       "region_rating          7                       [50, 80, 60, 40, 70, 20, 30]   \n",
       "home_address           3                                          [1, 2, 3]   \n",
       "work_address           3                                          [2, 3, 1]   \n",
       "income              1207  [18000, 19000, 30000, 10000, 15000, 28000, 450...   \n",
       "sna                    4                                       [4, 1, 2, 3]   \n",
       "first_time             4                                       [1, 4, 3, 2]   \n",
       "foreign_passport       2                                             [N, Y]   \n",
       "default                2                                    [0.0, 1.0, nan]   \n",
       "\n",
       "                   null    dtype  \n",
       "_test                 0     bool  \n",
       "client_id             0    int64  \n",
       "app_date              0   object  \n",
       "education           478   object  \n",
       "sex                   0   object  \n",
       "age                   0    int64  \n",
       "car                   0   object  \n",
       "car_type              0   object  \n",
       "decline_app_cnt       0    int64  \n",
       "good_work             0    int64  \n",
       "score_bki             0  float64  \n",
       "bki_request_cnt       0    int64  \n",
       "region_rating         0    int64  \n",
       "home_address          0    int64  \n",
       "work_address          0    int64  \n",
       "income                0    int64  \n",
       "sna                   0    int64  \n",
       "first_time            0    int64  \n",
       "foreign_passport      0   object  \n",
       "default           36349  float64  "
      ]
     },
     "execution_count": 3,
     "metadata": {},
     "output_type": "execute_result"
    }
   ],
   "source": [
    "train = pd.read_csv(f'{DATASETS_LOC}/train.csv')\n",
    "train.insert(0, '_test', False)\n",
    "\n",
    "test = pd.read_csv(f'{DATASETS_LOC}/test.csv')\n",
    "test.insert(0, '_test', True)\n",
    "\n",
    "data = pd.concat([train, test], ignore_index=True)\n",
    "# unique values count, first 10 unique values, null values count, type\n",
    "data.agg({'nunique', lambda s: s.unique()[:10]})\\\n",
    "    .append(pd.Series(data.isnull().sum(), name='null'))\\\n",
    "    .append(pd.Series(data.dtypes, name='dtype'))\\\n",
    "    .transpose()"
   ]
  },
  {
   "cell_type": "markdown",
   "metadata": {
    "papermill": {
     "duration": 0.032483,
     "end_time": "2020-11-04T02:08:47.065669",
     "exception": false,
     "start_time": "2020-11-04T02:08:47.033186",
     "status": "completed"
    },
    "tags": []
   },
   "source": [
    "Пропусков значений в данных нет за исключением признака уровня образования. Сохраним это сведение (введем новую категорию), потому что в первом приближении данные выглядят чистыми."
   ]
  },
  {
   "cell_type": "code",
   "execution_count": 4,
   "metadata": {
    "execution": {
     "iopub.execute_input": "2020-11-04T02:08:47.150082Z",
     "iopub.status.busy": "2020-11-04T02:08:47.149252Z",
     "iopub.status.idle": "2020-11-04T02:08:47.154876Z",
     "shell.execute_reply": "2020-11-04T02:08:47.154235Z"
    },
    "papermill": {
     "duration": 0.056365,
     "end_time": "2020-11-04T02:08:47.155008",
     "exception": false,
     "start_time": "2020-11-04T02:08:47.098643",
     "status": "completed"
    },
    "tags": []
   },
   "outputs": [],
   "source": [
    "data.education.fillna('WOE', inplace=True)"
   ]
  },
  {
   "cell_type": "markdown",
   "metadata": {
    "papermill": {
     "duration": 0.033259,
     "end_time": "2020-11-04T02:08:47.221200",
     "exception": false,
     "start_time": "2020-11-04T02:08:47.187941",
     "status": "completed"
    },
    "tags": []
   },
   "source": [
    "Сгруппируем признаки для упрощения обработки."
   ]
  },
  {
   "cell_type": "code",
   "execution_count": 5,
   "metadata": {
    "execution": {
     "iopub.execute_input": "2020-11-04T02:08:47.295530Z",
     "iopub.status.busy": "2020-11-04T02:08:47.294745Z",
     "iopub.status.idle": "2020-11-04T02:08:47.298516Z",
     "shell.execute_reply": "2020-11-04T02:08:47.297736Z"
    },
    "papermill": {
     "duration": 0.043781,
     "end_time": "2020-11-04T02:08:47.298653",
     "exception": false,
     "start_time": "2020-11-04T02:08:47.254872",
     "status": "completed"
    },
    "tags": []
   },
   "outputs": [],
   "source": [
    "target = 'default'\n",
    "bin_features = ['sex', 'car', 'car_type', 'good_work', 'foreign_passport']\n",
    "cat_features = ['education', 'home_address', 'work_address', 'sna', 'first_time', 'region_rating']\n",
    "num_features = ['age', 'decline_app_cnt', 'score_bki', 'bki_request_cnt', 'income']"
   ]
  },
  {
   "cell_type": "markdown",
   "metadata": {
    "papermill": {
     "duration": 0.033005,
     "end_time": "2020-11-04T02:08:47.364797",
     "exception": false,
     "start_time": "2020-11-04T02:08:47.331792",
     "status": "completed"
    },
    "tags": []
   },
   "source": [
    "Посмотрим на распределение количественных признаков."
   ]
  },
  {
   "cell_type": "code",
   "execution_count": 6,
   "metadata": {
    "execution": {
     "iopub.execute_input": "2020-11-04T02:08:47.442426Z",
     "iopub.status.busy": "2020-11-04T02:08:47.441316Z",
     "iopub.status.idle": "2020-11-04T02:08:47.454945Z",
     "shell.execute_reply": "2020-11-04T02:08:47.454164Z"
    },
    "papermill": {
     "duration": 0.056354,
     "end_time": "2020-11-04T02:08:47.455094",
     "exception": false,
     "start_time": "2020-11-04T02:08:47.398740",
     "status": "completed"
    },
    "tags": []
   },
   "outputs": [],
   "source": [
    "def plot_grid(nplots, max_cols=2, figsize=(800/72, 600/72)):\n",
    "    ncols = min(nplots, max_cols)\n",
    "    nrows = (nplots // ncols) + min(1, (nplots % ncols))\n",
    "    fig, axs = plt.subplots(ncols=ncols, nrows=nrows, figsize=figsize, constrained_layout=True)\n",
    "    if nrows == 1:\n",
    "        return axs\n",
    "    return [axs[index // ncols, index % ncols] for index in range(nplots)]"
   ]
  },
  {
   "cell_type": "code",
   "execution_count": 7,
   "metadata": {
    "execution": {
     "iopub.execute_input": "2020-11-04T02:08:47.531713Z",
     "iopub.status.busy": "2020-11-04T02:08:47.530789Z",
     "iopub.status.idle": "2020-11-04T02:08:49.414012Z",
     "shell.execute_reply": "2020-11-04T02:08:49.413215Z"
    },
    "papermill": {
     "duration": 1.924462,
     "end_time": "2020-11-04T02:08:49.414150",
     "exception": false,
     "start_time": "2020-11-04T02:08:47.489688",
     "status": "completed"
    },
    "tags": []
   },
   "outputs": [
    {
     "data": {
      "image/png": "[encoded data removed]",
      "text/plain": [
       "<Figure size 800x600 with 6 Axes>"
      ]
     },
     "metadata": {
      "needs_background": "light"
     },
     "output_type": "display_data"
    }
   ],
   "source": [
    "for column, ax in zip(num_features, plot_grid(len(num_features))):\n",
    "    data[column].plot(kind='hist', ax=ax, title=column)\n",
    "    ax.set_ylabel(None)"
   ]
  },
  {
   "cell_type": "markdown",
   "metadata": {
    "papermill": {
     "duration": 0.035324,
     "end_time": "2020-11-04T02:08:49.486178",
     "exception": false,
     "start_time": "2020-11-04T02:08:49.450854",
     "status": "completed"
    },
    "tags": []
   },
   "source": [
    "Распределение дохода имеет \"длинный хвост\" и большой масштаб относительно других признаков, поэтому применим функцию нормализации."
   ]
  },
  {
   "cell_type": "code",
   "execution_count": 8,
   "metadata": {
    "execution": {
     "iopub.execute_input": "2020-11-04T02:08:49.566620Z",
     "iopub.status.busy": "2020-11-04T02:08:49.565390Z",
     "iopub.status.idle": "2020-11-04T02:08:49.783203Z",
     "shell.execute_reply": "2020-11-04T02:08:49.782429Z"
    },
    "papermill": {
     "duration": 0.261225,
     "end_time": "2020-11-04T02:08:49.783348",
     "exception": false,
     "start_time": "2020-11-04T02:08:49.522123",
     "status": "completed"
    },
    "tags": []
   },
   "outputs": [
    {
     "data": {
      "image/png": "[encoded data removed]",
      "text/plain": [
       "<Figure size 432x288 with 1 Axes>"
      ]
     },
     "metadata": {
      "needs_background": "light"
     },
     "output_type": "display_data"
    }
   ],
   "source": [
    "data.income = data.income.transform(np.log)\n",
    "data.income.plot(kind='hist');"
   ]
  },
  {
   "cell_type": "markdown",
   "metadata": {
    "papermill": {
     "duration": 0.036519,
     "end_time": "2020-11-04T02:08:49.857497",
     "exception": false,
     "start_time": "2020-11-04T02:08:49.820978",
     "status": "completed"
    },
    "tags": []
   },
   "source": [
    "Посмотрим теперь на корреляцию признаков с целевой переменной."
   ]
  },
  {
   "cell_type": "code",
   "execution_count": 9,
   "metadata": {
    "execution": {
     "iopub.execute_input": "2020-11-04T02:08:49.943466Z",
     "iopub.status.busy": "2020-11-04T02:08:49.942640Z",
     "iopub.status.idle": "2020-11-04T02:08:49.946139Z",
     "shell.execute_reply": "2020-11-04T02:08:49.946858Z"
    },
    "papermill": {
     "duration": 0.052772,
     "end_time": "2020-11-04T02:08:49.947041",
     "exception": false,
     "start_time": "2020-11-04T02:08:49.894269",
     "status": "completed"
    },
    "tags": []
   },
   "outputs": [],
   "source": [
    "def plot_correlation_matrix(corr, annot=False):\n",
    "    mask = np.triu(np.ones_like(corr, dtype=np.bool))\n",
    "    cmap=sns.diverging_palette(220, 20, as_cmap=True)\n",
    "    sns.heatmap(corr, annot=annot, fmt='.2f', mask=mask, cmap=cmap, vmax=1, vmin=-1, square=True, linewidths=.5, cbar_kws={\"shrink\": .5})"
   ]
  },
  {
   "cell_type": "code",
   "execution_count": 10,
   "metadata": {
    "execution": {
     "iopub.execute_input": "2020-11-04T02:08:50.028792Z",
     "iopub.status.busy": "2020-11-04T02:08:50.027854Z",
     "iopub.status.idle": "2020-11-04T02:08:50.457885Z",
     "shell.execute_reply": "2020-11-04T02:08:50.458503Z"
    },
    "papermill": {
     "duration": 0.474577,
     "end_time": "2020-11-04T02:08:50.458713",
     "exception": false,
     "start_time": "2020-11-04T02:08:49.984136",
     "status": "completed"
    },
    "tags": []
   },
   "outputs": [
    {
     "data": {
      "image/png": "[encoded data removed]",
      "text/plain": [
       "<Figure size 432x288 with 2 Axes>"
      ]
     },
     "metadata": {
      "needs_background": "light"
     },
     "output_type": "display_data"
    }
   ],
   "source": [
    "corr = data[~data._test][num_features + [target]].corr()\n",
    "plot_correlation_matrix(corr, annot=True)"
   ]
  },
  {
   "cell_type": "markdown",
   "metadata": {
    "papermill": {
     "duration": 0.037943,
     "end_time": "2020-11-04T02:08:50.536112",
     "exception": false,
     "start_time": "2020-11-04T02:08:50.498169",
     "status": "completed"
    },
    "tags": []
   },
   "source": [
    "Наблюдается положительная корреляция целевой переменной с количеством отказов, что может объясняться самим процессом выдачи кредитов. Но в целом численные признаки скоррелированы слабо.\n",
    "\n",
    "Проверим теперь значимость численных признаков."
   ]
  },
  {
   "cell_type": "code",
   "execution_count": 11,
   "metadata": {
    "execution": {
     "iopub.execute_input": "2020-11-04T02:08:50.621836Z",
     "iopub.status.busy": "2020-11-04T02:08:50.620998Z",
     "iopub.status.idle": "2020-11-04T02:08:51.059622Z",
     "shell.execute_reply": "2020-11-04T02:08:51.058977Z"
    },
    "papermill": {
     "duration": 0.484159,
     "end_time": "2020-11-04T02:08:51.059756",
     "exception": false,
     "start_time": "2020-11-04T02:08:50.575597",
     "status": "completed"
    },
    "tags": []
   },
   "outputs": [
    {
     "data": {
      "image/png": "[encoded data removed]",
      "text/plain": [
       "<Figure size 432x288 with 1 Axes>"
      ]
     },
     "metadata": {
      "needs_background": "light"
     },
     "output_type": "display_data"
    }
   ],
   "source": [
    "from sklearn.feature_selection import f_classif\n",
    "\n",
    "F, _ = f_classif(data[~data._test][num_features], data[~data._test][target])\n",
    "pd.Series(F, index=num_features).sort_values(ascending=False).plot(kind='bar');"
   ]
  },
  {
   "cell_type": "markdown",
   "metadata": {
    "papermill": {
     "duration": 0.040206,
     "end_time": "2020-11-04T02:08:51.139274",
     "exception": false,
     "start_time": "2020-11-04T02:08:51.099068",
     "status": "completed"
    },
    "tags": []
   },
   "source": [
    "Обратим внимание на то, что большее значение имеют признаки количества обращений и рейтинг бюро крединтных историй."
   ]
  },
  {
   "cell_type": "code",
   "execution_count": 12,
   "metadata": {
    "execution": {
     "iopub.execute_input": "2020-11-04T02:08:51.232421Z",
     "iopub.status.busy": "2020-11-04T02:08:51.231286Z",
     "iopub.status.idle": "2020-11-04T02:08:53.597406Z",
     "shell.execute_reply": "2020-11-04T02:08:53.596738Z"
    },
    "papermill": {
     "duration": 2.418533,
     "end_time": "2020-11-04T02:08:53.597535",
     "exception": false,
     "start_time": "2020-11-04T02:08:51.179002",
     "status": "completed"
    },
    "tags": []
   },
   "outputs": [
    {
     "data": {
      "image/png": "[encoded data removed]",
      "text/plain": [
       "<Figure size 800x600 with 18 Axes>"
      ]
     },
     "metadata": {
      "needs_background": "light"
     },
     "output_type": "display_data"
    }
   ],
   "source": [
    "for feature, ax in zip(cat_features, plot_grid(len(cat_features))):\n",
    "    mosaic(data[~data._test], [feature, target], ax=ax, title=feature);"
   ]
  },
  {
   "cell_type": "code",
   "execution_count": 13,
   "metadata": {
    "execution": {
     "iopub.execute_input": "2020-11-04T02:08:53.693502Z",
     "iopub.status.busy": "2020-11-04T02:08:53.691193Z",
     "iopub.status.idle": "2020-11-04T02:08:55.770438Z",
     "shell.execute_reply": "2020-11-04T02:08:55.769798Z"
    },
    "papermill": {
     "duration": 2.132227,
     "end_time": "2020-11-04T02:08:55.770583",
     "exception": false,
     "start_time": "2020-11-04T02:08:53.638356",
     "status": "completed"
    },
    "tags": []
   },
   "outputs": [
    {
     "data": {
      "image/png": "[encoded data removed]",
      "text/plain": [
       "<Figure size 800x600 with 16 Axes>"
      ]
     },
     "metadata": {
      "needs_background": "light"
     },
     "output_type": "display_data"
    }
   ],
   "source": [
    "for feature, ax in zip(bin_features, plot_grid(len(bin_features))):\n",
    "    mosaic(data[~data._test], [feature, target], ax=ax, title=feature);"
   ]
  },
  {
   "cell_type": "markdown",
   "metadata": {
    "papermill": {
     "duration": 0.04106,
     "end_time": "2020-11-04T02:08:55.853180",
     "exception": false,
     "start_time": "2020-11-04T02:08:55.812120",
     "status": "completed"
    },
    "tags": []
   },
   "source": [
    "В связи целевой переменной с категориальными признаками тоже не наблюдается явных закономерностей.\n",
    "\n",
    "Оценим теперь значимость этих признаков, предварительно закодировав значения."
   ]
  },
  {
   "cell_type": "code",
   "execution_count": 14,
   "metadata": {
    "execution": {
     "iopub.execute_input": "2020-11-04T02:08:56.006874Z",
     "iopub.status.busy": "2020-11-04T02:08:55.962726Z",
     "iopub.status.idle": "2020-11-04T02:08:56.228394Z",
     "shell.execute_reply": "2020-11-04T02:08:56.229033Z"
    },
    "papermill": {
     "duration": 0.33379,
     "end_time": "2020-11-04T02:08:56.229232",
     "exception": false,
     "start_time": "2020-11-04T02:08:55.895442",
     "status": "completed"
    },
    "tags": []
   },
   "outputs": [],
   "source": [
    "from sklearn.preprocessing import LabelEncoder, OrdinalEncoder\n",
    "\n",
    "\n",
    "ordinal_enc = OrdinalEncoder(categories=[['WOE', 'SCH', 'GRD', 'UGR', 'PGR', 'ACD'],])\n",
    "data[['education',]] = ordinal_enc.fit_transform(data[['education',]])\n",
    "\n",
    "label_encoder = LabelEncoder()\n",
    "for column in bin_features:\n",
    "    data[column] = label_encoder.fit_transform(data[column])"
   ]
  },
  {
   "cell_type": "code",
   "execution_count": 15,
   "metadata": {
    "execution": {
     "iopub.execute_input": "2020-11-04T02:08:56.320561Z",
     "iopub.status.busy": "2020-11-04T02:08:56.319745Z",
     "iopub.status.idle": "2020-11-04T02:08:56.717817Z",
     "shell.execute_reply": "2020-11-04T02:08:56.717165Z"
    },
    "papermill": {
     "duration": 0.446857,
     "end_time": "2020-11-04T02:08:56.717949",
     "exception": false,
     "start_time": "2020-11-04T02:08:56.271092",
     "status": "completed"
    },
    "tags": []
   },
   "outputs": [
    {
     "data": {
      "image/png": "[encoded data removed]",
      "text/plain": [
       "<Figure size 432x288 with 1 Axes>"
      ]
     },
     "metadata": {
      "needs_background": "light"
     },
     "output_type": "display_data"
    }
   ],
   "source": [
    "from sklearn.feature_selection import mutual_info_classif\n",
    "\n",
    "\n",
    "mi = mutual_info_classif(data[~data._test][cat_features+bin_features], data[~data._test][target], discrete_features=True)\n",
    "pd.Series(mi, index=cat_features+bin_features).sort_values(ascending=False).plot(kind='bar');"
   ]
  },
  {
   "cell_type": "markdown",
   "metadata": {
    "papermill": {
     "duration": 0.04276,
     "end_time": "2020-11-04T02:08:56.808731",
     "exception": false,
     "start_time": "2020-11-04T02:08:56.765971",
     "status": "completed"
    },
    "tags": []
   },
   "source": [
    "Связь с сотрудниками банка, а также, по-видимому, уровень жизни в окружении заемщика оказывают большее влияние на целевую переменную.\n",
    "\n",
    "Подготовим данные к использованию в модели: закодируем категориальные признаки и стандартизируем численные."
   ]
  },
  {
   "cell_type": "code",
   "execution_count": 16,
   "metadata": {
    "execution": {
     "iopub.execute_input": "2020-11-04T02:08:56.904676Z",
     "iopub.status.busy": "2020-11-04T02:08:56.903716Z",
     "iopub.status.idle": "2020-11-04T02:08:56.907419Z",
     "shell.execute_reply": "2020-11-04T02:08:56.906643Z"
    },
    "papermill": {
     "duration": 0.055524,
     "end_time": "2020-11-04T02:08:56.907548",
     "exception": false,
     "start_time": "2020-11-04T02:08:56.852024",
     "status": "completed"
    },
    "tags": []
   },
   "outputs": [],
   "source": [
    "from sklearn.preprocessing import OneHotEncoder, StandardScaler\n",
    "\n",
    "\n",
    "def prepare_space(df, num_features, bin_features, cat_features, target):\n",
    "    X_num = StandardScaler().fit_transform(df[num_features].values)\n",
    "    X_bin = df[bin_features].values\n",
    "    X_cat = OneHotEncoder(sparse=False).fit_transform(df[cat_features].values)\n",
    "    X = np.hstack([X_num, X_bin, X_cat])\n",
    "    Y = df[target].values\n",
    "    return X, Y"
   ]
  },
  {
   "cell_type": "code",
   "execution_count": 17,
   "metadata": {
    "execution": {
     "iopub.execute_input": "2020-11-04T02:08:57.003488Z",
     "iopub.status.busy": "2020-11-04T02:08:57.002692Z",
     "iopub.status.idle": "2020-11-04T02:08:57.121528Z",
     "shell.execute_reply": "2020-11-04T02:08:57.120609Z"
    },
    "papermill": {
     "duration": 0.169432,
     "end_time": "2020-11-04T02:08:57.121695",
     "exception": false,
     "start_time": "2020-11-04T02:08:56.952263",
     "status": "completed"
    },
    "tags": []
   },
   "outputs": [],
   "source": [
    "X, Y = prepare_space(data[~data._test], num_features, bin_features, cat_features, target)"
   ]
  },
  {
   "cell_type": "code",
   "execution_count": 18,
   "metadata": {
    "execution": {
     "iopub.execute_input": "2020-11-04T02:08:57.231766Z",
     "iopub.status.busy": "2020-11-04T02:08:57.230928Z",
     "iopub.status.idle": "2020-11-04T02:08:57.244225Z",
     "shell.execute_reply": "2020-11-04T02:08:57.243573Z"
    },
    "papermill": {
     "duration": 0.069756,
     "end_time": "2020-11-04T02:08:57.244363",
     "exception": false,
     "start_time": "2020-11-04T02:08:57.174607",
     "status": "completed"
    },
    "tags": []
   },
   "outputs": [],
   "source": [
    "from sklearn.model_selection import train_test_split\n",
    "\n",
    "\n",
    "X_train, X_test, y_train, y_test = train_test_split(X, Y, test_size=.2, random_state=RANDOM_SEED)"
   ]
  },
  {
   "cell_type": "markdown",
   "metadata": {
    "papermill": {
     "duration": 0.042693,
     "end_time": "2020-11-04T02:08:57.332104",
     "exception": false,
     "start_time": "2020-11-04T02:08:57.289411",
     "status": "completed"
    },
    "tags": []
   },
   "source": [
    "Попробуем воспользоваться логистической регрессией, как относительно простым и быстрым алгоритмом машинного обучения."
   ]
  },
  {
   "cell_type": "code",
   "execution_count": 19,
   "metadata": {
    "execution": {
     "iopub.execute_input": "2020-11-04T02:08:57.426083Z",
     "iopub.status.busy": "2020-11-04T02:08:57.425294Z",
     "iopub.status.idle": "2020-11-04T02:08:58.209227Z",
     "shell.execute_reply": "2020-11-04T02:08:58.208552Z"
    },
    "papermill": {
     "duration": 0.834459,
     "end_time": "2020-11-04T02:08:58.209387",
     "exception": false,
     "start_time": "2020-11-04T02:08:57.374928",
     "status": "completed"
    },
    "tags": []
   },
   "outputs": [],
   "source": [
    "from sklearn.linear_model import LogisticRegression\n",
    "\n",
    "\n",
    "model = LogisticRegression(random_state=RANDOM_SEED, solver='liblinear').fit(X_train, y_train)"
   ]
  },
  {
   "cell_type": "markdown",
   "metadata": {
    "papermill": {
     "duration": 0.04323,
     "end_time": "2020-11-04T02:08:58.296569",
     "exception": false,
     "start_time": "2020-11-04T02:08:58.253339",
     "status": "completed"
    },
    "tags": []
   },
   "source": [
    "Оценим производительность модели по рабочей характеристике ROC."
   ]
  },
  {
   "cell_type": "code",
   "execution_count": 20,
   "metadata": {
    "execution": {
     "iopub.execute_input": "2020-11-04T02:08:58.396031Z",
     "iopub.status.busy": "2020-11-04T02:08:58.394143Z",
     "iopub.status.idle": "2020-11-04T02:08:58.398952Z",
     "shell.execute_reply": "2020-11-04T02:08:58.399555Z"
    },
    "papermill": {
     "duration": 0.058603,
     "end_time": "2020-11-04T02:08:58.399747",
     "exception": false,
     "start_time": "2020-11-04T02:08:58.341144",
     "status": "completed"
    },
    "tags": []
   },
   "outputs": [],
   "source": [
    "from sklearn.metrics import roc_curve, roc_auc_score\n",
    "\n",
    "\n",
    "def plot_roc_curve(y_true, y_score):\n",
    "    fpr, tpr, _ = roc_curve(y_true, y_score)\n",
    "    auc = roc_auc_score(y_true, y_score)\n",
    "\n",
    "    plt.figure()\n",
    "    plt.plot(fpr, tpr, color='darkorange', lw=2, label='ROC curve (area = %0.3f)' % auc)\n",
    "    plt.plot([0, 1], [0, 1], color='navy', lw=2, linestyle='--')\n",
    "    plt.xlabel('False Positive Rate')\n",
    "    plt.ylabel('True Positive Rate')\n",
    "    plt.title('Receiver operating characteristic')\n",
    "    plt.legend(loc=\"lower right\")\n",
    "    plt.show()"
   ]
  },
  {
   "cell_type": "code",
   "execution_count": 21,
   "metadata": {
    "execution": {
     "iopub.execute_input": "2020-11-04T02:08:58.494296Z",
     "iopub.status.busy": "2020-11-04T02:08:58.493520Z",
     "iopub.status.idle": "2020-11-04T02:08:58.689921Z",
     "shell.execute_reply": "2020-11-04T02:08:58.690549Z"
    },
    "papermill": {
     "duration": 0.246024,
     "end_time": "2020-11-04T02:08:58.690744",
     "exception": false,
     "start_time": "2020-11-04T02:08:58.444720",
     "status": "completed"
    },
    "tags": []
   },
   "outputs": [
    {
     "data": {
      "image/png": "[encoded data removed]",
      "text/plain": [
       "<Figure size 432x288 with 1 Axes>"
      ]
     },
     "metadata": {
      "needs_background": "light"
     },
     "output_type": "display_data"
    }
   ],
   "source": [
    "proba = model.predict_proba(X_test)[:, 1]\n",
    "plot_roc_curve(y_test, proba)"
   ]
  },
  {
   "cell_type": "markdown",
   "metadata": {
    "papermill": {
     "duration": 0.045676,
     "end_time": "2020-11-04T02:08:58.782854",
     "exception": false,
     "start_time": "2020-11-04T02:08:58.737178",
     "status": "completed"
    },
    "tags": []
   },
   "source": [
    "Производительность нашей модели кажется неплохой, но вернемся в предметную область и взглянем на таблицу сопряженности оценки модели и реальных данных."
   ]
  },
  {
   "cell_type": "code",
   "execution_count": 22,
   "metadata": {
    "execution": {
     "iopub.execute_input": "2020-11-04T02:08:58.882258Z",
     "iopub.status.busy": "2020-11-04T02:08:58.881313Z",
     "iopub.status.idle": "2020-11-04T02:08:58.886025Z",
     "shell.execute_reply": "2020-11-04T02:08:58.885245Z"
    },
    "papermill": {
     "duration": 0.057199,
     "end_time": "2020-11-04T02:08:58.886152",
     "exception": false,
     "start_time": "2020-11-04T02:08:58.828953",
     "status": "completed"
    },
    "tags": []
   },
   "outputs": [],
   "source": [
    "from sklearn.metrics import plot_confusion_matrix\n",
    "\n",
    "\n",
    "def plot_cmatrix(estimator, X, y, title=None, **kwargs):\n",
    "    disp = plot_confusion_matrix(model, X_test, y_test, **kwargs)\n",
    "    disp.ax_.set_ylabel('Истинный класс')\n",
    "    disp.ax_.set_xlabel('Предсказанный класс')\n",
    "    if title:\n",
    "        disp.ax_.set_title(title)"
   ]
  },
  {
   "cell_type": "code",
   "execution_count": 23,
   "metadata": {
    "execution": {
     "iopub.execute_input": "2020-11-04T02:08:58.993083Z",
     "iopub.status.busy": "2020-11-04T02:08:58.985002Z",
     "iopub.status.idle": "2020-11-04T02:08:59.590998Z",
     "shell.execute_reply": "2020-11-04T02:08:59.589887Z"
    },
    "papermill": {
     "duration": 0.659832,
     "end_time": "2020-11-04T02:08:59.591175",
     "exception": false,
     "start_time": "2020-11-04T02:08:58.931343",
     "status": "completed"
    },
    "tags": []
   },
   "outputs": [
    {
     "data": {
      "image/png": "[encoded data removed]",
      "text/plain": [
       "<Figure size 800x300 with 4 Axes>"
      ]
     },
     "metadata": {
      "needs_background": "light"
     },
     "output_type": "display_data"
    }
   ],
   "source": [
    "axs = plot_grid(2, figsize=(800/72, 300/72))\n",
    "plot_cmatrix(model, X_test, y_test, title='Абсолютные значения', display_labels=['0', '1'], ax=axs[0]);\n",
    "plot_cmatrix(model, X_test, y_test, title='Нормализованные значения', normalize='pred', display_labels=['0', '1'], ax=axs[1]);"
   ]
  },
  {
   "cell_type": "markdown",
   "metadata": {
    "papermill": {
     "duration": 0.046935,
     "end_time": "2020-11-04T02:08:59.689396",
     "exception": false,
     "start_time": "2020-11-04T02:08:59.642461",
     "status": "completed"
    },
    "tags": []
   },
   "source": [
    "Заметна большая доля (12%) ложно-отрицательных значений, что может привести к убыткам из-за вышедших на дефолт кредитов, выданных потенциально ненадежным клиентам.\n",
    "\n",
    "Но прежде чем идти на компромисс в выборе определяющего класс порога для векторов вероятностей, попробуем оптимизировать модель путем подбора параметров регрессии."
   ]
  },
  {
   "cell_type": "code",
   "execution_count": 24,
   "metadata": {
    "execution": {
     "iopub.execute_input": "2020-11-04T02:08:59.799749Z",
     "iopub.status.busy": "2020-11-04T02:08:59.798652Z",
     "iopub.status.idle": "2020-11-04T02:14:29.858914Z",
     "shell.execute_reply": "2020-11-04T02:14:29.858147Z"
    },
    "papermill": {
     "duration": 330.123173,
     "end_time": "2020-11-04T02:14:29.859086",
     "exception": false,
     "start_time": "2020-11-04T02:08:59.735913",
     "status": "completed"
    },
    "tags": []
   },
   "outputs": [],
   "source": [
    "from sklearn.model_selection import GridSearchCV\n",
    "\n",
    "estimator = LogisticRegression(random_state=RANDOM_SEED, max_iter=200)\n",
    "\n",
    "param_grid = [\n",
    "    {\n",
    "        'penalty': ['l1'],\n",
    "        'solver': ['liblinear', 'saga'],\n",
    "        'class_weight':['none', 'balanced'], \n",
    "        'multi_class': ['auto','ovr'],\n",
    "    },\n",
    "    {\n",
    "        'penalty': ['l2'],\n",
    "        'solver': ['newton-cg', 'lbfgs', 'liblinear', 'sag', 'saga'],\n",
    "        'class_weight':['none', 'balanced'], \n",
    "        'multi_class': ['auto','ovr'],\n",
    "    },\n",
    "    {\n",
    "        'penalty': ['elasticnet'],\n",
    "        'solver': ['saga'],\n",
    "        'class_weight':['none', 'balanced'], \n",
    "        'multi_class': ['auto','ovr'],\n",
    "    },\n",
    "    {\n",
    "        'penalty': ['none'],\n",
    "        'solver': ['newton-cg', 'lbfgs', 'sag', 'saga'],\n",
    "        'class_weight':['none', 'balanced'], \n",
    "        'multi_class': ['auto','ovr'],\n",
    "    },\n",
    "]\n",
    "\n",
    "gs = GridSearchCV(estimator, param_grid, n_jobs=-1, scoring='f1', cv=5).fit(X_train, y_train)"
   ]
  },
  {
   "cell_type": "markdown",
   "metadata": {
    "papermill": {
     "duration": 0.046071,
     "end_time": "2020-11-04T02:14:29.953298",
     "exception": false,
     "start_time": "2020-11-04T02:14:29.907227",
     "status": "completed"
    },
    "tags": []
   },
   "source": [
    "Сразу испытаем найденные параметры на использованной ранее выборке."
   ]
  },
  {
   "cell_type": "code",
   "execution_count": 25,
   "metadata": {
    "execution": {
     "iopub.execute_input": "2020-11-04T02:14:30.053554Z",
     "iopub.status.busy": "2020-11-04T02:14:30.052745Z",
     "iopub.status.idle": "2020-11-04T02:14:30.787846Z",
     "shell.execute_reply": "2020-11-04T02:14:30.787056Z"
    },
    "papermill": {
     "duration": 0.78822,
     "end_time": "2020-11-04T02:14:30.787987",
     "exception": false,
     "start_time": "2020-11-04T02:14:29.999767",
     "status": "completed"
    },
    "tags": []
   },
   "outputs": [],
   "source": [
    "params = gs.best_estimator_.get_params()\n",
    "model = LogisticRegression(**params).fit(X_train, y_train)"
   ]
  },
  {
   "cell_type": "code",
   "execution_count": 26,
   "metadata": {
    "execution": {
     "iopub.execute_input": "2020-11-04T02:14:30.890405Z",
     "iopub.status.busy": "2020-11-04T02:14:30.889403Z",
     "iopub.status.idle": "2020-11-04T02:14:31.094054Z",
     "shell.execute_reply": "2020-11-04T02:14:31.093248Z"
    },
    "papermill": {
     "duration": 0.257366,
     "end_time": "2020-11-04T02:14:31.094187",
     "exception": false,
     "start_time": "2020-11-04T02:14:30.836821",
     "status": "completed"
    },
    "tags": []
   },
   "outputs": [
    {
     "data": {
      "image/png": "[encoded data removed]",
      "text/plain": [
       "<Figure size 432x288 with 1 Axes>"
      ]
     },
     "metadata": {
      "needs_background": "light"
     },
     "output_type": "display_data"
    }
   ],
   "source": [
    "proba = model.predict_proba(X_test)[:, 1]\n",
    "plot_roc_curve(y_test, proba)"
   ]
  },
  {
   "cell_type": "code",
   "execution_count": 27,
   "metadata": {
    "execution": {
     "iopub.execute_input": "2020-11-04T02:14:31.208933Z",
     "iopub.status.busy": "2020-11-04T02:14:31.207429Z",
     "iopub.status.idle": "2020-11-04T02:14:31.797062Z",
     "shell.execute_reply": "2020-11-04T02:14:31.796416Z"
    },
    "papermill": {
     "duration": 0.652436,
     "end_time": "2020-11-04T02:14:31.797182",
     "exception": false,
     "start_time": "2020-11-04T02:14:31.144746",
     "status": "completed"
    },
    "tags": []
   },
   "outputs": [
    {
     "data": {
      "image/png": "[encoded data removed]",
      "text/plain": [
       "<Figure size 800x300 with 4 Axes>"
      ]
     },
     "metadata": {
      "needs_background": "light"
     },
     "output_type": "display_data"
    }
   ],
   "source": [
    "axs = plot_grid(2, figsize=(800/72, 300/72))\n",
    "plot_cmatrix(model, X_test, y_test, title='Абсолютные значения', display_labels=['0', '1'], ax=axs[0]);\n",
    "plot_cmatrix(model, X_test, y_test, title='Нормализованные значения', normalize='pred', display_labels=['0', '1'], ax=axs[1]);"
   ]
  },
  {
   "cell_type": "markdown",
   "metadata": {
    "papermill": {
     "duration": 0.051776,
     "end_time": "2020-11-04T02:14:31.898701",
     "exception": false,
     "start_time": "2020-11-04T02:14:31.846925",
     "status": "completed"
    },
    "tags": []
   },
   "source": [
    "Что ж, производительность модели не улучшилась, и мы все же пришли к компромиссу: уменьшили долю риска по дефолтным кредитам за счет увеличения ложно-положительных исходов.\n",
    "\n",
    "Опубликуем результаты."
   ]
  },
  {
   "cell_type": "code",
   "execution_count": 28,
   "metadata": {
    "execution": {
     "iopub.execute_input": "2020-11-04T02:14:32.005671Z",
     "iopub.status.busy": "2020-11-04T02:14:32.004837Z",
     "iopub.status.idle": "2020-11-04T02:14:32.064952Z",
     "shell.execute_reply": "2020-11-04T02:14:32.064122Z"
    },
    "papermill": {
     "duration": 0.116798,
     "end_time": "2020-11-04T02:14:32.065098",
     "exception": false,
     "start_time": "2020-11-04T02:14:31.948300",
     "status": "completed"
    },
    "tags": []
   },
   "outputs": [],
   "source": [
    "S, _ = prepare_space(data[data._test], num_features, bin_features, cat_features, target)\n",
    "predict_submission = model.predict_proba(S)[:,1]"
   ]
  },
  {
   "cell_type": "code",
   "execution_count": 29,
   "metadata": {
    "execution": {
     "iopub.execute_input": "2020-11-04T02:14:32.175692Z",
     "iopub.status.busy": "2020-11-04T02:14:32.174680Z",
     "iopub.status.idle": "2020-11-04T02:14:32.867702Z",
     "shell.execute_reply": "2020-11-04T02:14:32.866850Z"
    },
    "papermill": {
     "duration": 0.749254,
     "end_time": "2020-11-04T02:14:32.867836",
     "exception": false,
     "start_time": "2020-11-04T02:14:32.118582",
     "status": "completed"
    },
    "tags": []
   },
   "outputs": [],
   "source": [
    "sample_submission = data[data._test][['client_id', target]]\n",
    "sample_submission[target] = predict_submission\n",
    "sample_submission.to_csv('submission.csv', index=False)"
   ]
  }
 ],
 "metadata": {
  "kernelspec": {
   "display_name": "Python 3",
   "language": "python",
   "name": "python3"
  },
  "language_info": {
   "codemirror_mode": {
    "name": "ipython",
    "version": 3
   },
   "file_extension": ".py",
   "mimetype": "text/x-python",
   "name": "python",
   "nbconvert_exporter": "python",
   "pygments_lexer": "ipython3",
   "version": "3.7.6"
  },
  "papermill": {
   "duration": 353.004338,
   "end_time": "2020-11-04T02:14:33.027156",
   "environment_variables": {},
   "exception": null,
   "input_path": "__notebook__.ipynb",
   "output_path": "__notebook__.ipynb",
   "parameters": {},
   "start_time": "2020-11-04T02:08:40.022818",
   "version": "2.1.0"
  }
 },
 "nbformat": 4,
 "nbformat_minor": 4
}
