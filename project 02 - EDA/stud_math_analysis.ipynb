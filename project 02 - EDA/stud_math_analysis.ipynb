{
 "cells": [
  {
   "cell_type": "markdown",
   "metadata": {},
   "source": [
    "### Проект оценки влияния условий жизни учащихся на успеваемость по математике.\n",
    "\n",
    "С помощью собранных данных о семье, качестве жизни, учебной нагрузке учащихся небходимо проверить связь этих условий жизни с результатами госэкзаменов по математике, чтобы на ранней стадии выявлять находящихся в группе риска студентов со слабой успеваемостью."
   ]
  },
  {
   "cell_type": "code",
   "execution_count": 1,
   "metadata": {},
   "outputs": [],
   "source": [
    "%load_ext autoreload\n",
    "%aimport edatools.clean\n",
    "%autoreload 1"
   ]
  },
  {
   "cell_type": "code",
   "execution_count": 2,
   "metadata": {},
   "outputs": [],
   "source": [
    "import matplotlib.pyplot as plt\n",
    "import seaborn as sns\n",
    "import pandas as pd\n",
    "\n",
    "pd.options.display.max_columns = None"
   ]
  },
  {
   "cell_type": "markdown",
   "metadata": {},
   "source": [
    "#### Дано"
   ]
  },
  {
   "cell_type": "code",
   "execution_count": 3,
   "metadata": {},
   "outputs": [
    {
     "data": {
      "text/html": [
       "<div>\n",
       "<style scoped>\n",
       "    .dataframe tbody tr th:only-of-type {\n",
       "        vertical-align: middle;\n",
       "    }\n",
       "\n",
       "    .dataframe tbody tr th {\n",
       "        vertical-align: top;\n",
       "    }\n",
       "\n",
       "    .dataframe thead th {\n",
       "        text-align: right;\n",
       "    }\n",
       "</style>\n",
       "<table border=\"1\" class=\"dataframe\">\n",
       "  <thead>\n",
       "    <tr style=\"text-align: right;\">\n",
       "      <th></th>\n",
       "      <th>school</th>\n",
       "      <th>sex</th>\n",
       "      <th>age</th>\n",
       "      <th>address</th>\n",
       "      <th>famsize</th>\n",
       "      <th>Pstatus</th>\n",
       "      <th>Medu</th>\n",
       "      <th>Fedu</th>\n",
       "      <th>Mjob</th>\n",
       "      <th>Fjob</th>\n",
       "      <th>reason</th>\n",
       "      <th>guardian</th>\n",
       "      <th>traveltime</th>\n",
       "      <th>studytime</th>\n",
       "      <th>failures</th>\n",
       "      <th>schoolsup</th>\n",
       "      <th>famsup</th>\n",
       "      <th>paid</th>\n",
       "      <th>activities</th>\n",
       "      <th>nursery</th>\n",
       "      <th>studytime, granular</th>\n",
       "      <th>higher</th>\n",
       "      <th>internet</th>\n",
       "      <th>romantic</th>\n",
       "      <th>famrel</th>\n",
       "      <th>freetime</th>\n",
       "      <th>goout</th>\n",
       "      <th>health</th>\n",
       "      <th>absences</th>\n",
       "      <th>score</th>\n",
       "    </tr>\n",
       "  </thead>\n",
       "  <tbody>\n",
       "    <tr>\n",
       "      <th>0</th>\n",
       "      <td>GP</td>\n",
       "      <td>F</td>\n",
       "      <td>18</td>\n",
       "      <td>U</td>\n",
       "      <td>&lt;NA&gt;</td>\n",
       "      <td>A</td>\n",
       "      <td>4</td>\n",
       "      <td>4</td>\n",
       "      <td>at_home</td>\n",
       "      <td>teacher</td>\n",
       "      <td>course</td>\n",
       "      <td>mother</td>\n",
       "      <td>2</td>\n",
       "      <td>2</td>\n",
       "      <td>0</td>\n",
       "      <td>yes</td>\n",
       "      <td>no</td>\n",
       "      <td>no</td>\n",
       "      <td>no</td>\n",
       "      <td>yes</td>\n",
       "      <td>-6</td>\n",
       "      <td>yes</td>\n",
       "      <td>&lt;NA&gt;</td>\n",
       "      <td>no</td>\n",
       "      <td>4</td>\n",
       "      <td>3</td>\n",
       "      <td>4</td>\n",
       "      <td>3</td>\n",
       "      <td>6</td>\n",
       "      <td>30</td>\n",
       "    </tr>\n",
       "    <tr>\n",
       "      <th>1</th>\n",
       "      <td>GP</td>\n",
       "      <td>F</td>\n",
       "      <td>17</td>\n",
       "      <td>U</td>\n",
       "      <td>GT3</td>\n",
       "      <td>&lt;NA&gt;</td>\n",
       "      <td>1</td>\n",
       "      <td>1</td>\n",
       "      <td>at_home</td>\n",
       "      <td>other</td>\n",
       "      <td>course</td>\n",
       "      <td>father</td>\n",
       "      <td>1</td>\n",
       "      <td>2</td>\n",
       "      <td>0</td>\n",
       "      <td>no</td>\n",
       "      <td>yes</td>\n",
       "      <td>no</td>\n",
       "      <td>no</td>\n",
       "      <td>no</td>\n",
       "      <td>-6</td>\n",
       "      <td>yes</td>\n",
       "      <td>yes</td>\n",
       "      <td>no</td>\n",
       "      <td>5</td>\n",
       "      <td>3</td>\n",
       "      <td>3</td>\n",
       "      <td>3</td>\n",
       "      <td>4</td>\n",
       "      <td>30</td>\n",
       "    </tr>\n",
       "    <tr>\n",
       "      <th>2</th>\n",
       "      <td>GP</td>\n",
       "      <td>F</td>\n",
       "      <td>15</td>\n",
       "      <td>U</td>\n",
       "      <td>LE3</td>\n",
       "      <td>T</td>\n",
       "      <td>1</td>\n",
       "      <td>1</td>\n",
       "      <td>at_home</td>\n",
       "      <td>other</td>\n",
       "      <td>other</td>\n",
       "      <td>mother</td>\n",
       "      <td>1</td>\n",
       "      <td>2</td>\n",
       "      <td>3</td>\n",
       "      <td>yes</td>\n",
       "      <td>no</td>\n",
       "      <td>&lt;NA&gt;</td>\n",
       "      <td>no</td>\n",
       "      <td>yes</td>\n",
       "      <td>-6</td>\n",
       "      <td>yes</td>\n",
       "      <td>yes</td>\n",
       "      <td>&lt;NA&gt;</td>\n",
       "      <td>4</td>\n",
       "      <td>3</td>\n",
       "      <td>2</td>\n",
       "      <td>3</td>\n",
       "      <td>10</td>\n",
       "      <td>50</td>\n",
       "    </tr>\n",
       "    <tr>\n",
       "      <th>3</th>\n",
       "      <td>GP</td>\n",
       "      <td>F</td>\n",
       "      <td>15</td>\n",
       "      <td>U</td>\n",
       "      <td>GT3</td>\n",
       "      <td>T</td>\n",
       "      <td>4</td>\n",
       "      <td>2</td>\n",
       "      <td>health</td>\n",
       "      <td>&lt;NA&gt;</td>\n",
       "      <td>home</td>\n",
       "      <td>mother</td>\n",
       "      <td>1</td>\n",
       "      <td>3</td>\n",
       "      <td>0</td>\n",
       "      <td>no</td>\n",
       "      <td>yes</td>\n",
       "      <td>yes</td>\n",
       "      <td>yes</td>\n",
       "      <td>yes</td>\n",
       "      <td>-9</td>\n",
       "      <td>yes</td>\n",
       "      <td>yes</td>\n",
       "      <td>yes</td>\n",
       "      <td>3</td>\n",
       "      <td>2</td>\n",
       "      <td>2</td>\n",
       "      <td>5</td>\n",
       "      <td>2</td>\n",
       "      <td>75</td>\n",
       "    </tr>\n",
       "    <tr>\n",
       "      <th>4</th>\n",
       "      <td>GP</td>\n",
       "      <td>F</td>\n",
       "      <td>16</td>\n",
       "      <td>U</td>\n",
       "      <td>GT3</td>\n",
       "      <td>T</td>\n",
       "      <td>3</td>\n",
       "      <td>3</td>\n",
       "      <td>other</td>\n",
       "      <td>other</td>\n",
       "      <td>home</td>\n",
       "      <td>father</td>\n",
       "      <td>1</td>\n",
       "      <td>2</td>\n",
       "      <td>0</td>\n",
       "      <td>no</td>\n",
       "      <td>yes</td>\n",
       "      <td>yes</td>\n",
       "      <td>no</td>\n",
       "      <td>yes</td>\n",
       "      <td>-6</td>\n",
       "      <td>yes</td>\n",
       "      <td>no</td>\n",
       "      <td>no</td>\n",
       "      <td>4</td>\n",
       "      <td>3</td>\n",
       "      <td>2</td>\n",
       "      <td>5</td>\n",
       "      <td>4</td>\n",
       "      <td>50</td>\n",
       "    </tr>\n",
       "  </tbody>\n",
       "</table>\n",
       "</div>"
      ],
      "text/plain": [
       "  school sex  age address famsize Pstatus  Medu  Fedu     Mjob     Fjob  \\\n",
       "0     GP   F   18       U    <NA>       A     4     4  at_home  teacher   \n",
       "1     GP   F   17       U     GT3    <NA>     1     1  at_home    other   \n",
       "2     GP   F   15       U     LE3       T     1     1  at_home    other   \n",
       "3     GP   F   15       U     GT3       T     4     2   health     <NA>   \n",
       "4     GP   F   16       U     GT3       T     3     3    other    other   \n",
       "\n",
       "   reason guardian  traveltime  studytime  failures schoolsup famsup  paid  \\\n",
       "0  course   mother           2          2         0       yes     no    no   \n",
       "1  course   father           1          2         0        no    yes    no   \n",
       "2   other   mother           1          2         3       yes     no  <NA>   \n",
       "3    home   mother           1          3         0        no    yes   yes   \n",
       "4    home   father           1          2         0        no    yes   yes   \n",
       "\n",
       "  activities nursery  studytime, granular higher internet romantic  famrel  \\\n",
       "0         no     yes                   -6    yes     <NA>       no       4   \n",
       "1         no      no                   -6    yes      yes       no       5   \n",
       "2         no     yes                   -6    yes      yes     <NA>       4   \n",
       "3        yes     yes                   -9    yes      yes      yes       3   \n",
       "4         no     yes                   -6    yes       no       no       4   \n",
       "\n",
       "   freetime  goout  health  absences  score  \n",
       "0         3      4       3         6     30  \n",
       "1         3      3       3         4     30  \n",
       "2         3      2       3        10     50  \n",
       "3         2      2       5         2     75  \n",
       "4         3      2       5         4     50  "
      ]
     },
     "execution_count": 3,
     "metadata": {},
     "output_type": "execute_result"
    }
   ],
   "source": [
    "sample = pd.read_csv('stud_math.csv').convert_dtypes()\n",
    "sample.head()"
   ]
  },
  {
   "cell_type": "markdown",
   "metadata": {},
   "source": [
    "#### Метаданные\n",
    "\n",
    "Мы знаем структуру датасета и набор значений некоторых полей, поэтому выполним сначала простые преобразования.\n",
    "\n",
    "Переименуем колонки."
   ]
  },
  {
   "cell_type": "code",
   "execution_count": 4,
   "metadata": {},
   "outputs": [],
   "source": [
    "columns = {\n",
    "    'famsize'            : 'family_size',\n",
    "    'Pstatus'            : 'parental_cohabitation',\n",
    "    'Medu'               : 'mother_education',\n",
    "    'Fedu'               : 'father_education',\n",
    "    'Mjob'               : 'mother_job',\n",
    "    'Fjob'               : 'father_job',\n",
    "    'reason'             : 'choice_reason',\n",
    "    'traveltime'         : 'travel_time',\n",
    "    'studytime'          : 'extra_study',\n",
    "    'schoolsup'          : 'school_support',\n",
    "    'famsup'             : 'family_support',\n",
    "    'studytime, granular': 'extra_study_granular',\n",
    "    'famrel'             : 'family_relations',\n",
    "    'goout'              : 'friends_time',\n",
    "}\n",
    "sample.rename(columns=columns, inplace=True)"
   ]
  },
  {
   "cell_type": "markdown",
   "metadata": {},
   "source": [
    "И проверим соответствие данных наборам значений известных типов."
   ]
  },
  {
   "cell_type": "code",
   "execution_count": 5,
   "metadata": {},
   "outputs": [],
   "source": [
    "from edatools.clean import check_anomalies"
   ]
  },
  {
   "cell_type": "code",
   "execution_count": 6,
   "metadata": {},
   "outputs": [],
   "source": [
    "# структура для проверки на ошибки или аномальные значения\n",
    "check_actions = {\n",
    "    'sex': {\n",
    "        'restrict': ('F', 'M')\n",
    "    },\n",
    "    'address': {\n",
    "        'restrict': ('U', 'R')\n",
    "    },\n",
    "    'family_size': {\n",
    "        'restrict': ('LE3', 'GT3')\n",
    "    },\n",
    "    'parental_cohabitation': {\n",
    "        'restrict': ('T', 'A')\n",
    "    },\n",
    "    'mother_education': {\n",
    "        'restrict': (0, 1, 2, 3, 4)\n",
    "    },\n",
    "    'father_education': {\n",
    "        'restrict': (0, 1, 2, 3, 4)\n",
    "    },\n",
    "    'mother_job': {\n",
    "        'restrict': ('teacher', 'health', 'services', 'at_home', 'other')\n",
    "    },\n",
    "    'father_job': {\n",
    "        'restrict': ('teacher', 'health', 'services', 'at_home', 'other')\n",
    "    },\n",
    "    'choice_reason': {\n",
    "        'restrict': ('home', 'reputation', 'course', 'other')\n",
    "    },\n",
    "    'guardian': {\n",
    "        'restrict': ('mother', 'father', 'other')\n",
    "    },\n",
    "    'travel_time': {\n",
    "        'restrict': (1, 2, 3, 4)\n",
    "    },\n",
    "    'extra_study': {\n",
    "        'restrict': (1, 2, 3, 4)\n",
    "    },\n",
    "    'failures': {\n",
    "        'restrict': (0, 1, 2, 3)\n",
    "    },\n",
    "    'school_support': {\n",
    "        'restrict': ('yes', 'no')\n",
    "    },\n",
    "    'family_support': {\n",
    "        'restrict': ('yes', 'no')\n",
    "    },\n",
    "    'paid': {\n",
    "        'restrict': ('yes', 'no')\n",
    "    },\n",
    "    'activities': {\n",
    "        'restrict': ('yes', 'no')\n",
    "    },\n",
    "    'nursery': {\n",
    "        'restrict': ('yes', 'no')\n",
    "    },\n",
    "    'higher': {\n",
    "        'restrict': ('yes', 'no')\n",
    "    },\n",
    "    'internet': {\n",
    "        'restrict': ('yes', 'no')\n",
    "    },\n",
    "    'romantic': {\n",
    "        'restrict': ('yes', 'no')\n",
    "    },\n",
    "    'family_relations': {\n",
    "        'restrict': (1, 2, 3, 4, 5)\n",
    "    },\n",
    "    'freetime': {\n",
    "        'restrict': (1, 2, 3, 4, 5)\n",
    "    },\n",
    "    'friends_time': {\n",
    "        'restrict': (1, 2, 3, 4, 5)\n",
    "    },\n",
    "    'health': {\n",
    "        'restrict': (1, 2, 3, 4, 5)\n",
    "    }\n",
    "}"
   ]
  },
  {
   "cell_type": "code",
   "execution_count": 7,
   "metadata": {},
   "outputs": [
    {
     "data": {
      "text/plain": [
       "{'father_education': {40: 1}, 'family_relations': {-1: 1}}"
      ]
     },
     "execution_count": 7,
     "metadata": {},
     "output_type": "execute_result"
    }
   ],
   "source": [
    "check_anomalies(sample, check_actions)"
   ]
  },
  {
   "cell_type": "markdown",
   "metadata": {},
   "source": [
    "Можно предположить, что эти аномалии — опечатки (значений `4` и `1` соответственно). Исправим их."
   ]
  },
  {
   "cell_type": "code",
   "execution_count": 8,
   "metadata": {},
   "outputs": [],
   "source": [
    "sample.father_education.replace(40, 4, inplace=True)\n",
    "sample.family_relations.replace(-1, 1, inplace=True)"
   ]
  },
  {
   "cell_type": "markdown",
   "metadata": {},
   "source": [
    "#### Очистка\n",
    "\n",
    "Изучим оставшиеся поля"
   ]
  },
  {
   "cell_type": "code",
   "execution_count": 9,
   "metadata": {},
   "outputs": [
    {
     "data": {
      "text/plain": [
       "school                  string\n",
       "age                      Int64\n",
       "extra_study_granular     Int64\n",
       "absences                 Int64\n",
       "score                    Int64\n",
       "dtype: object"
      ]
     },
     "execution_count": 9,
     "metadata": {},
     "output_type": "execute_result"
    }
   ],
   "source": [
    "sample.loc[:, [name for name in sample.columns if name not in check_actions]].dtypes"
   ]
  },
  {
   "cell_type": "code",
   "execution_count": 10,
   "metadata": {},
   "outputs": [
    {
     "data": {
      "text/plain": [
       "GP    349\n",
       "MS     46\n",
       "Name: school, dtype: Int64"
      ]
     },
     "metadata": {},
     "output_type": "display_data"
    }
   ],
   "source": [
    "display(sample.school.value_counts(dropna=False))"
   ]
  },
  {
   "cell_type": "markdown",
   "metadata": {},
   "source": [
    "Поле с аббревиатурами школ выглядит корректно заполненным. Рассмотрим остальные числовые поля в части распределения и выбросов."
   ]
  },
  {
   "cell_type": "code",
   "execution_count": 11,
   "metadata": {},
   "outputs": [
    {
     "data": {
      "image/png": "[encoded data removed]",
      "text/plain": [
       "<Figure size 691.2x518.4 with 4 Axes>"
      ]
     },
     "metadata": {
      "needs_background": "light"
     },
     "output_type": "display_data"
    }
   ],
   "source": [
    "columns = ('age', 'extra_study_granular', 'absences', 'score')\n",
    "\n",
    "fig, axs = plt.subplots(ncols=2, nrows=2, figsize=(6.4*1.5, 4.8*1.5),\n",
    "                        constrained_layout=True)\n",
    "for i in range(len(columns)):\n",
    "    ax = sample[columns[i]].hist(ax=axs[i//2, i%2])\n",
    "    ax.set_title(columns[i])\n",
    "    ax.annotate(sample[columns[i]].describe().to_string(), (0.95, 0.95),\n",
    "                xycoords='axes fraction', va='top', ha='right', size='large')"
   ]
  },
  {
   "cell_type": "markdown",
   "metadata": {},
   "source": [
    "Данные о возрасте опрошенных укладываются в изучаемый диапазон (от 15 до 22 лет), однако оценим корреляцию возраста со здоровьем и результатами экзаменов, чтобы проверить предположение о том, что это неуспевающие ученики, и возраст заполнен корректно."
   ]
  },
  {
   "cell_type": "code",
   "execution_count": 12,
   "metadata": {},
   "outputs": [
    {
     "name": "stdout",
     "output_type": "stream",
     "text": [
      "Корреляция возраста со здоровьем и экзаменационной оценкой\n"
     ]
    },
    {
     "data": {
      "text/html": [
       "<div>\n",
       "<style scoped>\n",
       "    .dataframe tbody tr th:only-of-type {\n",
       "        vertical-align: middle;\n",
       "    }\n",
       "\n",
       "    .dataframe tbody tr th {\n",
       "        vertical-align: top;\n",
       "    }\n",
       "\n",
       "    .dataframe thead th {\n",
       "        text-align: right;\n",
       "    }\n",
       "</style>\n",
       "<table border=\"1\" class=\"dataframe\">\n",
       "  <thead>\n",
       "    <tr style=\"text-align: right;\">\n",
       "      <th></th>\n",
       "      <th>age</th>\n",
       "      <th>health</th>\n",
       "      <th>score</th>\n",
       "    </tr>\n",
       "  </thead>\n",
       "  <tbody>\n",
       "    <tr>\n",
       "      <th>age</th>\n",
       "      <td>1.0</td>\n",
       "      <td>-0.065946</td>\n",
       "      <td>-0.155726</td>\n",
       "    </tr>\n",
       "  </tbody>\n",
       "</table>\n",
       "</div>"
      ],
      "text/plain": [
       "     age    health     score\n",
       "age  1.0 -0.065946 -0.155726"
      ]
     },
     "metadata": {},
     "output_type": "display_data"
    },
    {
     "name": "stdout",
     "output_type": "stream",
     "text": [
      "Статистические показатели \"взрослых\" учеников в сравнении со всей выборкой\n"
     ]
    },
    {
     "data": {
      "text/html": [
       "<div>\n",
       "<style scoped>\n",
       "    .dataframe tbody tr th:only-of-type {\n",
       "        vertical-align: middle;\n",
       "    }\n",
       "\n",
       "    .dataframe tbody tr th {\n",
       "        vertical-align: top;\n",
       "    }\n",
       "\n",
       "    .dataframe thead th {\n",
       "        text-align: right;\n",
       "    }\n",
       "</style>\n",
       "<table border=\"1\" class=\"dataframe\">\n",
       "  <thead>\n",
       "    <tr style=\"text-align: right;\">\n",
       "      <th></th>\n",
       "      <th>age_all</th>\n",
       "      <th>health_all</th>\n",
       "      <th>score_all</th>\n",
       "      <th>age_adults</th>\n",
       "      <th>health_adults</th>\n",
       "      <th>score_adults</th>\n",
       "    </tr>\n",
       "  </thead>\n",
       "  <tbody>\n",
       "    <tr>\n",
       "      <th>count</th>\n",
       "      <td>395.000000</td>\n",
       "      <td>380.000000</td>\n",
       "      <td>389.000000</td>\n",
       "      <td>29.000000</td>\n",
       "      <td>28.000000</td>\n",
       "      <td>26.000000</td>\n",
       "    </tr>\n",
       "    <tr>\n",
       "      <th>mean</th>\n",
       "      <td>16.696203</td>\n",
       "      <td>3.531579</td>\n",
       "      <td>52.262211</td>\n",
       "      <td>19.275862</td>\n",
       "      <td>3.428571</td>\n",
       "      <td>43.461538</td>\n",
       "    </tr>\n",
       "    <tr>\n",
       "      <th>std</th>\n",
       "      <td>1.276043</td>\n",
       "      <td>1.396019</td>\n",
       "      <td>22.919022</td>\n",
       "      <td>0.701862</td>\n",
       "      <td>1.345185</td>\n",
       "      <td>24.850321</td>\n",
       "    </tr>\n",
       "    <tr>\n",
       "      <th>min</th>\n",
       "      <td>15.000000</td>\n",
       "      <td>1.000000</td>\n",
       "      <td>0.000000</td>\n",
       "      <td>19.000000</td>\n",
       "      <td>1.000000</td>\n",
       "      <td>0.000000</td>\n",
       "    </tr>\n",
       "    <tr>\n",
       "      <th>25%</th>\n",
       "      <td>16.000000</td>\n",
       "      <td>3.000000</td>\n",
       "      <td>40.000000</td>\n",
       "      <td>19.000000</td>\n",
       "      <td>3.000000</td>\n",
       "      <td>40.000000</td>\n",
       "    </tr>\n",
       "    <tr>\n",
       "      <th>50%</th>\n",
       "      <td>17.000000</td>\n",
       "      <td>4.000000</td>\n",
       "      <td>55.000000</td>\n",
       "      <td>19.000000</td>\n",
       "      <td>3.000000</td>\n",
       "      <td>45.000000</td>\n",
       "    </tr>\n",
       "    <tr>\n",
       "      <th>75%</th>\n",
       "      <td>18.000000</td>\n",
       "      <td>5.000000</td>\n",
       "      <td>70.000000</td>\n",
       "      <td>19.000000</td>\n",
       "      <td>5.000000</td>\n",
       "      <td>58.750000</td>\n",
       "    </tr>\n",
       "    <tr>\n",
       "      <th>max</th>\n",
       "      <td>22.000000</td>\n",
       "      <td>5.000000</td>\n",
       "      <td>100.000000</td>\n",
       "      <td>22.000000</td>\n",
       "      <td>5.000000</td>\n",
       "      <td>90.000000</td>\n",
       "    </tr>\n",
       "  </tbody>\n",
       "</table>\n",
       "</div>"
      ],
      "text/plain": [
       "          age_all  health_all   score_all  age_adults  health_adults  \\\n",
       "count  395.000000  380.000000  389.000000   29.000000      28.000000   \n",
       "mean    16.696203    3.531579   52.262211   19.275862       3.428571   \n",
       "std      1.276043    1.396019   22.919022    0.701862       1.345185   \n",
       "min     15.000000    1.000000    0.000000   19.000000       1.000000   \n",
       "25%     16.000000    3.000000   40.000000   19.000000       3.000000   \n",
       "50%     17.000000    4.000000   55.000000   19.000000       3.000000   \n",
       "75%     18.000000    5.000000   70.000000   19.000000       5.000000   \n",
       "max     22.000000    5.000000  100.000000   22.000000       5.000000   \n",
       "\n",
       "       score_adults  \n",
       "count     26.000000  \n",
       "mean      43.461538  \n",
       "std       24.850321  \n",
       "min        0.000000  \n",
       "25%       40.000000  \n",
       "50%       45.000000  \n",
       "75%       58.750000  \n",
       "max       90.000000  "
      ]
     },
     "execution_count": 12,
     "metadata": {},
     "output_type": "execute_result"
    }
   ],
   "source": [
    "df = sample[['age', 'health', 'score']].astype('float64')\n",
    "\n",
    "print('Корреляция возраста со здоровьем и экзаменационной оценкой')\n",
    "display(df.corr().loc[['age'], :])\n",
    "\n",
    "print('Статистические показатели \"взрослых\" учеников в сравнении со всей выборкой')\n",
    "adults = df.loc[df.age > df.age.quantile(.75)].describe()\n",
    "df.describe().join(adults, lsuffix='_all', rsuffix='_adults')"
   ]
  },
  {
   "cell_type": "markdown",
   "metadata": {},
   "source": [
    "Действительно, успеваемость учеников старше 19 лет удовлетворительна. Интересно, что есть отрицательная корреляция между возрастом и экзаменационной оценкой во **всей** выборке.\n",
    "\n",
    "Мы полагаем, что отдельные наблюдения в выборке — это результаты учебного года. В данных об отсутствиях есть явные выбросы превышающие количество учебных дней (их оценим как 260 будних дней в году минус 10 недель летних каникул, что есть _примерно_ 200 дн.). Обнулим эти выбросы и взглянем еще раз на распределение."
   ]
  },
  {
   "cell_type": "code",
   "execution_count": 13,
   "metadata": {},
   "outputs": [
    {
     "data": {
      "image/png": "[encoded data removed]",
      "text/plain": [
       "<Figure size 432x288 with 1 Axes>"
      ]
     },
     "metadata": {
      "needs_background": "light"
     },
     "output_type": "display_data"
    }
   ],
   "source": [
    "sample.absences = sample.absences.mask(sample.absences > 200)\n",
    "\n",
    "ax = sample.absences.hist();\n",
    "ax.annotate(sample.absences.describe().to_string(), (0.95, 0.95),\n",
    "            xycoords='axes fraction', va='top', ha='right', size='large');"
   ]
  },
  {
   "cell_type": "markdown",
   "metadata": {},
   "source": [
    "Теперь распределение пропущенных значений выглядит правдоподобно.\n",
    "\n",
    "Экзаменационная оценка распределена нормально, но есть выбивающиеся из этого распределения околонулевые значения. Может ли это означать несданный экзамен по причине пропуска?"
   ]
  },
  {
   "cell_type": "code",
   "execution_count": 14,
   "metadata": {},
   "outputs": [
    {
     "data": {
      "text/html": [
       "<div>\n",
       "<style scoped>\n",
       "    .dataframe tbody tr th:only-of-type {\n",
       "        vertical-align: middle;\n",
       "    }\n",
       "\n",
       "    .dataframe tbody tr th {\n",
       "        vertical-align: top;\n",
       "    }\n",
       "\n",
       "    .dataframe thead th {\n",
       "        text-align: right;\n",
       "    }\n",
       "</style>\n",
       "<table border=\"1\" class=\"dataframe\">\n",
       "  <thead>\n",
       "    <tr style=\"text-align: right;\">\n",
       "      <th></th>\n",
       "      <th>score</th>\n",
       "      <th>absences</th>\n",
       "    </tr>\n",
       "  </thead>\n",
       "  <tbody>\n",
       "    <tr>\n",
       "      <th>count</th>\n",
       "      <td>37.0</td>\n",
       "      <td>36.0</td>\n",
       "    </tr>\n",
       "    <tr>\n",
       "      <th>mean</th>\n",
       "      <td>0.0</td>\n",
       "      <td>0.0</td>\n",
       "    </tr>\n",
       "    <tr>\n",
       "      <th>std</th>\n",
       "      <td>0.0</td>\n",
       "      <td>0.0</td>\n",
       "    </tr>\n",
       "    <tr>\n",
       "      <th>min</th>\n",
       "      <td>0.0</td>\n",
       "      <td>0.0</td>\n",
       "    </tr>\n",
       "    <tr>\n",
       "      <th>25%</th>\n",
       "      <td>0.0</td>\n",
       "      <td>0.0</td>\n",
       "    </tr>\n",
       "    <tr>\n",
       "      <th>50%</th>\n",
       "      <td>0.0</td>\n",
       "      <td>0.0</td>\n",
       "    </tr>\n",
       "    <tr>\n",
       "      <th>75%</th>\n",
       "      <td>0.0</td>\n",
       "      <td>0.0</td>\n",
       "    </tr>\n",
       "    <tr>\n",
       "      <th>max</th>\n",
       "      <td>0.0</td>\n",
       "      <td>0.0</td>\n",
       "    </tr>\n",
       "  </tbody>\n",
       "</table>\n",
       "</div>"
      ],
      "text/plain": [
       "       score  absences\n",
       "count   37.0      36.0\n",
       "mean     0.0       0.0\n",
       "std      0.0       0.0\n",
       "min      0.0       0.0\n",
       "25%      0.0       0.0\n",
       "50%      0.0       0.0\n",
       "75%      0.0       0.0\n",
       "max      0.0       0.0"
      ]
     },
     "execution_count": 14,
     "metadata": {},
     "output_type": "execute_result"
    }
   ],
   "source": [
    "sample.loc[sample.score < 20, ['score', 'absences']].describe()"
   ]
  },
  {
   "cell_type": "markdown",
   "metadata": {},
   "source": [
    "Наше наивное предположение не подтвердилось, и связи оценки с количеством пропущенных занятий нет. Оставим такие значения как есть."
   ]
  }
 ],
 "metadata": {
  "kernelspec": {
   "display_name": "Python 3",
   "language": "python",
   "name": "python3"
  },
  "language_info": {
   "codemirror_mode": {
    "name": "ipython",
    "version": 3
   },
   "file_extension": ".py",
   "mimetype": "text/x-python",
   "name": "python",
   "nbconvert_exporter": "python",
   "pygments_lexer": "ipython3",
   "version": "3.8.4"
  }
 },
 "nbformat": 4,
 "nbformat_minor": 4
}
